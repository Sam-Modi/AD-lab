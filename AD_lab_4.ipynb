{
  "nbformat": 4,
  "nbformat_minor": 0,
  "metadata": {
    "colab": {
      "provenance": [],
      "authorship_tag": "ABX9TyMYX2DgwZKKE1F13Gpkeaq0",
      "include_colab_link": true
    },
    "kernelspec": {
      "name": "python3",
      "display_name": "Python 3"
    },
    "language_info": {
      "name": "python"
    }
  },
  "cells": [
    {
      "cell_type": "markdown",
      "metadata": {
        "id": "view-in-github",
        "colab_type": "text"
      },
      "source": [
        "<a href=\"https://colab.research.google.com/github/Sam-Modi/AD-lab/blob/main/AD_lab_4.ipynb\" target=\"_parent\"><img src=\"https://colab.research.google.com/assets/colab-badge.svg\" alt=\"Open In Colab\"/></a>"
      ]
    },
    {
      "cell_type": "markdown",
      "source": [
        "Practice"
      ],
      "metadata": {
        "id": "G4TkBahvUCJk"
      }
    },
    {
      "cell_type": "code",
      "source": [
        "import numpy as np\n",
        "from sklearn import preprocessing\n",
        "input_data=np.array(\n",
        "    [[2.1,-3.4,5.6],\n",
        "     [-1.5,3.4,5.7],\n",
        "     [3.5,-0.9,2.9],\n",
        "     [4.6,-9.2,1.8]]\n",
        ")\n",
        "data_normalized=preprocessing.normalize(input_data,norm='l2')\n",
        "data_normalized"
      ],
      "metadata": {
        "colab": {
          "base_uri": "https://localhost:8080/"
        },
        "id": "MZ61B2DWUHa_",
        "outputId": "4e514d5a-4db2-404e-be89-d77aeb647dd4"
      },
      "execution_count": null,
      "outputs": [
        {
          "output_type": "execute_result",
          "data": {
            "text/plain": [
              "array([[ 0.30524675, -0.49420902,  0.81399132],\n",
              "       [-0.22044526,  0.49967592,  0.83769199],\n",
              "       [ 0.75535659, -0.19423455,  0.62586689],\n",
              "       [ 0.44051927, -0.88103854,  0.17237711]])"
            ]
          },
          "metadata": {},
          "execution_count": 10
        }
      ]
    },
    {
      "cell_type": "markdown",
      "source": [
        "Q1."
      ],
      "metadata": {
        "id": "Nk-28l5Wdqie"
      }
    },
    {
      "cell_type": "code",
      "source": [
        "from sklearn.datasets import load_digits\n",
        "from sklearn.model_selection import train_test_split\n",
        "from sklearn.preprocessing import StandardScaler\n",
        "from sklearn.neighbors import KNeighborsClassifier\n",
        "from sklearn.metrics import accuracy_score\n",
        "\n",
        "digits = load_digits()\n",
        "X = digits.data\n",
        "y = digits.target\n",
        "X_train, X_test, y_train, y_test = train_test_split(X, y, test_size=0.2, random_state=1)\n",
        "scaler = StandardScaler()\n",
        "X_train = scaler.fit_transform(X_train)\n",
        "X_test = scaler.transform(X_test)\n",
        "knn = KNeighborsClassifier(n_neighbors=4)\n",
        "knn.fit(X_train, y_train)\n",
        "y_pred = knn.predict(X_test)\n",
        "accuracy = accuracy_score(y_test, y_pred)\n",
        "print(f\"Accuracy of KNN model: {accuracy * 100:.2f}%\")\n",
        "\n",
        "sample_data = X_test[:5]\n",
        "sample_predictions = knn.predict(sample_data)\n",
        "print(\"Sample Predictions:\", sample_predictions)\n",
        "print(\"Actual Labels:     \", y_test[:5])\n"
      ],
      "metadata": {
        "colab": {
          "base_uri": "https://localhost:8080/"
        },
        "id": "fo6PzhCQUg_4",
        "outputId": "abe68b10-fbe9-43f1-b60d-9fdbaa5fba87"
      },
      "execution_count": null,
      "outputs": [
        {
          "output_type": "stream",
          "name": "stdout",
          "text": [
            "Accuracy of KNN model: 97.78%\n",
            "Sample Predictions: [1 5 0 7 1]\n",
            "Actual Labels:      [1 5 0 7 1]\n"
          ]
        }
      ]
    },
    {
      "cell_type": "code",
      "source": [
        "from sklearn.datasets import load_digits\n",
        "from sklearn.model_selection import train_test_split\n",
        "from sklearn.preprocessing import StandardScaler, Normalizer\n",
        "from sklearn.neighbors import KNeighborsClassifier\n",
        "from sklearn.metrics import accuracy_score, precision_score, recall_score, f1_score\n",
        "import pandas as pd\n",
        "\n",
        "digits = load_digits()\n",
        "X = digits.data\n",
        "y = digits.target\n",
        "X_train, X_test, y_train, y_test = train_test_split(X, y, test_size=0.2, random_state=42)\n",
        "\n",
        "def evaluate_model(X_train, X_test, y_train, y_test):\n",
        "    knn = KNeighborsClassifier(n_neighbors=3)\n",
        "    knn.fit(X_train, y_train)\n",
        "    y_pred = knn.predict(X_test)\n",
        "    return {\n",
        "        \"Accuracy\": accuracy_score(y_test, y_pred),\n",
        "        \"Precision\": precision_score(y_test, y_pred, average=\"weighted\"),\n",
        "        \"Recall\": recall_score(y_test, y_pred, average=\"weighted\"),\n",
        "        \"F1 Score\": f1_score(y_test, y_pred, average=\"weighted\"),\n",
        "    }\n",
        "\n",
        "metrics_no_scaling = evaluate_model(X_train, X_test, y_train, y_test)\n",
        "\n",
        "scaler = StandardScaler()\n",
        "X_train_scaled = scaler.fit_transform(X_train)\n",
        "X_test_scaled = scaler.transform(X_test)\n",
        "metrics_scaling = evaluate_model(X_train_scaled, X_test_scaled, y_train, y_test)\n",
        "\n",
        "l1_normalizer = Normalizer(norm='l1')\n",
        "X_train_l1 = l1_normalizer.fit_transform(X_train)\n",
        "X_test_l1 = l1_normalizer.transform(X_test)\n",
        "metrics_l1 = evaluate_model(X_train_l1, X_test_l1, y_train, y_test)\n",
        "\n",
        "l2_normalizer = Normalizer(norm='l2')\n",
        "X_train_l2 = l2_normalizer.fit_transform(X_train)\n",
        "X_test_l2 = l2_normalizer.transform(X_test)\n",
        "metrics_l2 = evaluate_model(X_train_l2, X_test_l2, y_train, y_test)\n",
        "\n",
        "results = pd.DataFrame(\n",
        "    [metrics_no_scaling, metrics_scaling, metrics_l1, metrics_l2],\n",
        "    index=[\"No Scaling\", \"Standard Scaling\", \"L1 Normalization\", \"L2 Normalization\"]\n",
        ")\n",
        "\n",
        "print(results)\n"
      ],
      "metadata": {
        "colab": {
          "base_uri": "https://localhost:8080/"
        },
        "id": "k14W2E-0d9bD",
        "outputId": "812fee9f-519b-49ad-97d6-906a712fdb5d"
      },
      "execution_count": null,
      "outputs": [
        {
          "output_type": "stream",
          "name": "stdout",
          "text": [
            "                  Accuracy  Precision    Recall  F1 Score\n",
            "No Scaling        0.983333   0.983499  0.983333  0.983226\n",
            "Standard Scaling  0.969444   0.969666  0.969444  0.969287\n",
            "L1 Normalization  0.986111   0.986272  0.986111  0.986073\n",
            "L2 Normalization  0.986111   0.986272  0.986111  0.986073\n"
          ]
        }
      ]
    },
    {
      "cell_type": "code",
      "source": [
        "print(\"Sambhav Modi-2205588\")\n",
        "from sklearn.datasets import load_iris\n",
        "from sklearn.model_selection import train_test_split\n",
        "from sklearn.preprocessing import StandardScaler, Normalizer\n",
        "from sklearn.neighbors import KNeighborsClassifier\n",
        "from sklearn.metrics import accuracy_score, precision_score, recall_score, f1_score\n",
        "import pandas as pd\n",
        "\n",
        "iris = load_iris()\n",
        "X = iris.data\n",
        "y = iris.target\n",
        "X_train, X_test, y_train, y_test = train_test_split(X, y, test_size=0.2, random_state=42)\n",
        "\n",
        "def evaluate_model(X_train, X_test, y_train, y_test):\n",
        "    knn = KNeighborsClassifier(n_neighbors=3)\n",
        "    knn.fit(X_train, y_train)\n",
        "    y_pred = knn.predict(X_test)\n",
        "    return {\n",
        "        \"Accuracy\": accuracy_score(y_test, y_pred),\n",
        "        \"Precision\": precision_score(y_test, y_pred, average=\"weighted\"),\n",
        "        \"Recall\": recall_score(y_test, y_pred, average=\"weighted\"),\n",
        "        \"F1 Score\": f1_score(y_test, y_pred, average=\"weighted\"),\n",
        "    }\n",
        "\n",
        "metrics_no_scaling = evaluate_model(X_train, X_test, y_train, y_test)\n",
        "\n",
        "scaler = StandardScaler()\n",
        "X_train_scaled = scaler.fit_transform(X_train)\n",
        "X_test_scaled = scaler.transform(X_test)\n",
        "metrics_scaling = evaluate_model(X_train_scaled, X_test_scaled, y_train, y_test)\n",
        "\n",
        "l1_normalizer = Normalizer(norm='l1')\n",
        "X_train_l1 = l1_normalizer.fit_transform(X_train)\n",
        "X_test_l1 = l1_normalizer.transform(X_test)\n",
        "metrics_l1 = evaluate_model(X_train_l1, X_test_l1, y_train, y_test)\n",
        "\n",
        "l2_normalizer = Normalizer(norm='l2')\n",
        "X_train_l2 = l2_normalizer.fit_transform(X_train)\n",
        "X_test_l2 = l2_normalizer.transform(X_test)\n",
        "metrics_l2 = evaluate_model(X_train_l2, X_test_l2, y_train, y_test)\n",
        "\n",
        "results = pd.DataFrame(\n",
        "    [metrics_no_scaling, metrics_scaling, metrics_l1, metrics_l2],\n",
        "    index=[\"No Scaling\", \"Standard Scaling\", \"L1 Normalization\", \"L2 Normalization\"]\n",
        ")\n",
        "\n",
        "print(results)\n"
      ],
      "metadata": {
        "colab": {
          "base_uri": "https://localhost:8080/"
        },
        "id": "aiBeANBuhm8W",
        "outputId": "476a298f-9327-487f-9f1a-8fadd9e59804"
      },
      "execution_count": null,
      "outputs": [
        {
          "output_type": "stream",
          "name": "stdout",
          "text": [
            "Aditya Patel-22051047\n",
            "                  Accuracy  Precision    Recall  F1 Score\n",
            "No Scaling        1.000000       1.00  1.000000   1.00000\n",
            "Standard Scaling  1.000000       1.00  1.000000   1.00000\n",
            "L1 Normalization  0.966667       0.97  0.966667   0.96675\n",
            "L2 Normalization  0.966667       0.97  0.966667   0.96675\n"
          ]
        }
      ]
    }
  ]
}