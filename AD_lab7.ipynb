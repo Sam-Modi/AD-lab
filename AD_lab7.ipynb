{
  "nbformat": 4,
  "nbformat_minor": 0,
  "metadata": {
    "colab": {
      "provenance": [],
      "authorship_tag": "ABX9TyPw9pzJqvUdjP1ZjMA3pEst",
      "include_colab_link": true
    },
    "kernelspec": {
      "name": "python3",
      "display_name": "Python 3"
    },
    "language_info": {
      "name": "python"
    }
  },
  "cells": [
    {
      "cell_type": "markdown",
      "metadata": {
        "id": "view-in-github",
        "colab_type": "text"
      },
      "source": [
        "<a href=\"https://colab.research.google.com/github/Sam-Modi/AD-lab/blob/main/AD_lab7.ipynb\" target=\"_parent\"><img src=\"https://colab.research.google.com/assets/colab-badge.svg\" alt=\"Open In Colab\"/></a>"
      ]
    },
    {
      "cell_type": "markdown",
      "source": [
        "Q. Regression Models:\n",
        "   1. Linear Regression\n",
        "   2. Multiple Linear Regression\n",
        "    on Boston House price dataset"
      ],
      "metadata": {
        "id": "gQJwJO_dYXZr"
      }
    },
    {
      "cell_type": "code",
      "execution_count": null,
      "metadata": {
        "colab": {
          "base_uri": "https://localhost:8080/"
        },
        "id": "XEV0fR4uYSoV",
        "outputId": "40d947a3-4592-4ba1-df7b-6e087c4c19ba"
      },
      "outputs": [
        {
          "output_type": "stream",
          "name": "stdout",
          "text": [
            "Simple Linear Regression MSE: 0.7091157771765549\n",
            "Multiple Linear Regression MSE: 0.5558915986952444\n"
          ]
        }
      ],
      "source": [
        "import numpy as np\n",
        "import pandas as pd\n",
        "from sklearn.datasets import fetch_california_housing\n",
        "from sklearn.model_selection import train_test_split\n",
        "from sklearn.linear_model import LinearRegression\n",
        "from sklearn.metrics import mean_squared_error\n",
        "\n",
        "# Load Dataset\n",
        "california = fetch_california_housing(as_frame=True)  # Get dataset as a pandas DataFrame\n",
        "df = california.frame  # Convert to DataFrame\n",
        "\n",
        "# Define Features (X) and Target (y)\n",
        "X = df.drop(columns=[\"MedHouseVal\"])  # 'MedHouseVal' is the target (house price)\n",
        "y = df[\"MedHouseVal\"]\n",
        "\n",
        "# Split Data into Training and Testing sets\n",
        "X_train, X_test, y_train, y_test = train_test_split(X, y, test_size=0.2, random_state=42)\n",
        "\n",
        "# **1. Simple Linear Regression** (Using only 'MedInc' feature)\n",
        "X_train_simple = X_train[['MedInc']]\n",
        "X_test_simple = X_test[['MedInc']]\n",
        "\n",
        "simple_lr = LinearRegression()\n",
        "simple_lr.fit(X_train_simple, y_train)\n",
        "y_pred_simple = simple_lr.predict(X_test_simple)\n",
        "\n",
        "# **2. Multiple Linear Regression** (Using all features)\n",
        "multiple_lr = LinearRegression()\n",
        "multiple_lr.fit(X_train, y_train)\n",
        "y_pred_multiple = multiple_lr.predict(X_test)\n",
        "\n",
        "# **Evaluate Models**\n",
        "mse_simple = mean_squared_error(y_test, y_pred_simple)\n",
        "mse_multiple = mean_squared_error(y_test, y_pred_multiple)\n",
        "\n",
        "print(f\"Simple Linear Regression MSE: {mse_simple}\")\n",
        "print(f\"Multiple Linear Regression MSE: {mse_multiple}\")\n"
      ]
    }
  ]
}